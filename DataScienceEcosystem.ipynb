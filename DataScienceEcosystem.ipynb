{
 "cells": [
  {
   "cell_type": "markdown",
   "id": "32fb5ad9-cf38-49b9-aa67-707343831552",
   "metadata": {
    "jp-MarkdownHeadingCollapsed": true
   },
   "source": [
    "# Data Science Tools and Ecosystem"
   ]
  },
  {
   "cell_type": "markdown",
   "id": "c3816fdc-6541-4f2d-8260-5a451ea9967c",
   "metadata": {},
   "source": [
    "# In this notebook, Data Science Tools and Ecosystem are summarized"
   ]
  },
  {
   "cell_type": "markdown",
   "id": "83e088bb-7869-4349-93c0-ff54c7c06880",
   "metadata": {},
   "source": [
    "# Some of the popular languages that Data scientists use are :\n",
    "\n",
    "1. Python\n",
    "2. R\n",
    "3. SQL"
   ]
  },
  {
   "cell_type": "markdown",
   "id": "583bb440-5b32-463f-8c0b-15898efb6c05",
   "metadata": {},
   "source": [
    "# Some of the commonly used libraries used by Data Scientists includes:\n",
    "1. NumPy\n",
    "2. Pandas\n",
    "3. Matplotlib"
   ]
  },
  {
   "cell_type": "markdown",
   "id": "68876cb8-da0a-43c1-a224-98e99c1aa736",
   "metadata": {},
   "source": [
    "|Data Science Tools|\n",
    "|------------------|\n",
    "|Jupyter Notebook|\n",
    "|StudioR|\n",
    "|Apache Zeppelin|\n"
   ]
  },
  {
   "cell_type": "markdown",
   "id": "ae4c394f-d215-4784-8834-ec72a689a80a",
   "metadata": {},
   "source": [
    "### This is an example of evaluating arithmetic expression in Python\n"
   ]
  },
  {
   "cell_type": "code",
   "execution_count": 18,
   "id": "3b36acf9-ceff-4c6e-872a-09a95db11eb1",
   "metadata": {},
   "outputs": [
    {
     "data": {
      "text/plain": [
       "17"
      ]
     },
     "execution_count": 18,
     "metadata": {},
     "output_type": "execute_result"
    }
   ],
   "source": [
    "#This is a simple arithmetic expression to multiply then add integers \n",
    "(3*4)+5"
   ]
  },
  {
   "cell_type": "code",
   "execution_count": 20,
   "id": "13f5165d-7b8b-4f62-b4d4-a6cbb9768382",
   "metadata": {},
   "outputs": [
    {
     "data": {
      "text/plain": [
       "3.3333333333333335"
      ]
     },
     "execution_count": 20,
     "metadata": {},
     "output_type": "execute_result"
    }
   ],
   "source": [
    "# An expression that converts 200 minutes into hours \n",
    "200/60"
   ]
  },
  {
   "cell_type": "markdown",
   "id": "4f107c6d-308e-44fe-9e9b-ed9039ae1ec3",
   "metadata": {},
   "source": [
    "# ***Objectives:***\n",
    "- List popular languages for Data Science\n",
    "- Create a Jupyter notebook \n",
    "- Create a markdown cell\n",
    "- Share jupyter netbook through GitHub"
   ]
  },
  {
   "cell_type": "markdown",
   "id": "b2590935-7f1f-43e0-9d70-96daae58947e",
   "metadata": {},
   "source": [
    "## Author \n",
    "Madina Benhamouda"
   ]
  },
  {
   "cell_type": "code",
   "execution_count": null,
   "id": "aefacb9d-9f9b-40bc-a4d1-52ff29f7a1ec",
   "metadata": {},
   "outputs": [],
   "source": []
  }
 ],
 "metadata": {
  "kernelspec": {
   "display_name": "Python 3 (ipykernel)",
   "language": "python",
   "name": "python3"
  },
  "language_info": {
   "codemirror_mode": {
    "name": "ipython",
    "version": 3
   },
   "file_extension": ".py",
   "mimetype": "text/x-python",
   "name": "python",
   "nbconvert_exporter": "python",
   "pygments_lexer": "ipython3",
   "version": "3.12.7"
  }
 },
 "nbformat": 4,
 "nbformat_minor": 5
}
